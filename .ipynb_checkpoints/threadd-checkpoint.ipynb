{
 "cells": [
  {
   "cell_type": "code",
   "execution_count": 1,
   "id": "1010ef76-f91e-4a4e-b1c6-b9b875a7c7b4",
   "metadata": {},
   "outputs": [],
   "source": [
    "import selenium\n",
    "from selenium import webdriver\n",
    "from selenium.webdriver import ActionChains\n",
    "\n",
    "from selenium.webdriver.common.keys import Keys\n",
    "from selenium.webdriver.common.by import By\n",
    "\n",
    "from selenium.webdriver.support import expected_conditions as EC\n",
    "from selenium.webdriver.support.ui import Select\n",
    "from selenium.webdriver.support.ui import WebDriverWait\n",
    "\n",
    "import time\n",
    "import threading"
   ]
  },
  {
   "cell_type": "code",
   "execution_count": 2,
   "id": "2f0b39a3-c6cf-4767-b914-5791c0de420f",
   "metadata": {},
   "outputs": [],
   "source": [
    "URL = 'https://zep.us/play/2mAqWe'\n",
    "\n",
    "options = webdriver.ChromeOptions()\n",
    "\n",
    "options.add_argument(\"headless\")"
   ]
  },
  {
   "cell_type": "code",
   "execution_count": 13,
   "id": "965e6089-5003-4422-a498-6eac5c907507",
   "metadata": {},
   "outputs": [
    {
     "name": "stdout",
     "output_type": "stream",
     "text": [
      "['견우', '결박', '결승', '결정', '결투', '경건', '경고', '경비', '경아', '경제', '너츠', '넙치', '네모', '네버', '네잎', '네티', '넬리', '노답', '노래', '도덕', '도돌', '도둑', '도령', '도르', '도리', '도릿', '도발', '도어', '도적', '', '', '도전', '도트', '도파', '도하', '독고', '독방', '독일', '독점', '독종', '독특', '', '', '독해', '돌격', '돌풍', '동감', '동건', '동근', '동네', '동무', '동물', '동방', '', '', '동심', '동아', '동이', '동자', '동전', '동행', '돼지', '두근', '두럭', '두리', '', '', '두사', '두통', '둔기', '듀오', '드림', '득음', '듣남']\n"
     ]
    }
   ],
   "source": [
    "name_file = open(\"./name_list.txt\", 'r', encoding='utf-8')\n",
    "name_lines = name_file.readlines()\n",
    "name_list = []\n",
    "\n",
    "for value in name_lines:\n",
    "    value = value.replace(\"\\n\", \"\")\n",
    "    if value == \"\":\n",
    "        continue\n",
    "    name_list.append(value)\n",
    "\n",
    "name_file.close()\n",
    "\n",
    "print(name_list)"
   ]
  },
  {
   "cell_type": "code",
   "execution_count": 3,
   "id": "bc6d4cb4-6587-4d68-b6d7-e2c1b71411b8",
   "metadata": {},
   "outputs": [],
   "source": [
    "def bot_add(number):\n",
    "    driver = webdriver.Chrome(executable_path='./chromedriver.exe', options=options)\n",
    "\n",
    "    driver.get(url=URL)\n",
    "\n",
    "    wait = WebDriverWait(driver, 60)\n",
    "    element = wait.until(EC.presence_of_element_located((By.XPATH, r'//*[@id=\"InitialSettingsModal\"]/div/div/form/div[1]/div/div/div/input')))\n",
    "\n",
    "    time.sleep(1)\n",
    "\n",
    "    name_box = driver.find_element(By.XPATH, r'//*[@id=\"InitialSettingsModal\"]/div/div/form/div[1]/div/div/div/input')\n",
    "\n",
    "    name_box.send_keys(f'bot{number}')\n",
    "    name_box.send_keys(Keys.RETURN)\n",
    "\n",
    "    print(f'bot{number}')\n",
    "\n",
    "    time.sleep(20)\n",
    "\n",
    "    driver.close()"
   ]
  },
  {
   "cell_type": "code",
   "execution_count": 4,
   "id": "2d25e79e-7280-42e7-b795-19566824d035",
   "metadata": {
    "jupyter": {
     "source_hidden": true
    },
    "tags": []
   },
   "outputs": [
    {
     "name": "stderr",
     "output_type": "stream",
     "text": [
      "C:\\Users\\Precision3660\\AppData\\Local\\Temp\\ipykernel_56044\\2819685356.py:2: DeprecationWarning: executable_path has been deprecated, please pass in a Service object\n",
      "  driver = webdriver.Chrome(executable_path='./chromedriver.exe', options=options)\n"
     ]
    },
    {
     "name": "stdout",
     "output_type": "stream",
     "text": [
      "bot2\n",
      "bot6\n",
      "bot8\n",
      "bot4\n",
      "bot1\n",
      "bot3\n",
      "bot7\n",
      "bot9\n",
      "bot0\n"
     ]
    },
    {
     "name": "stderr",
     "output_type": "stream",
     "text": [
      "Exception in thread Thread-10:\n",
      "Traceback (most recent call last):\n",
      "  File \"C:\\Users\\Precision3660\\anaconda3\\lib\\threading.py\", line 980, in _bootstrap_inner\n",
      "    self.run()\n",
      "  File \"C:\\Users\\Precision3660\\anaconda3\\lib\\threading.py\", line 917, in run\n",
      "    self._target(*self._args, **self._kwargs)\n",
      "  File \"C:\\Users\\Precision3660\\AppData\\Local\\Temp\\ipykernel_56044\\2819685356.py\", line 4, in bot_add\n",
      "  File \"C:\\Users\\Precision3660\\anaconda3\\lib\\site-packages\\selenium\\webdriver\\remote\\webdriver.py\", line 455, in get\n",
      "    self.execute(Command.GET, {\"url\": url})\n",
      "  File \"C:\\Users\\Precision3660\\anaconda3\\lib\\site-packages\\selenium\\webdriver\\remote\\webdriver.py\", line 444, in execute\n",
      "    self.error_handler.check_response(response)\n",
      "  File \"C:\\Users\\Precision3660\\anaconda3\\lib\\site-packages\\selenium\\webdriver\\remote\\errorhandler.py\", line 249, in check_response\n",
      "    raise exception_class(message, screen, stacktrace)\n",
      "selenium.common.exceptions.TimeoutException: Message: timeout: Timed out receiving message from renderer: 299.836\n",
      "  (Session info: headless chrome=107.0.5304.107)\n",
      "Stacktrace:\n",
      "Backtrace:\n",
      "\tOrdinal0 [0x0064ACD3+2075859]\n",
      "\tOrdinal0 [0x005DEE61+1633889]\n",
      "\tOrdinal0 [0x004DB7BD+571325]\n",
      "\tOrdinal0 [0x004CE410+517136]\n",
      "\tOrdinal0 [0x004CE231+516657]\n",
      "\tOrdinal0 [0x004CD0A3+512163]\n",
      "\tOrdinal0 [0x004CD6D8+513752]\n",
      "\tOrdinal0 [0x004D6662+550498]\n",
      "\tOrdinal0 [0x004E1BD5+596949]\n",
      "\tOrdinal0 [0x004E4FC0+610240]\n",
      "\tOrdinal0 [0x004CDA81+514689]\n",
      "\tOrdinal0 [0x004E1A0F+596495]\n",
      "\tOrdinal0 [0x0053B93B+964923]\n",
      "\tOrdinal0 [0x00527136+880950]\n",
      "\tOrdinal0 [0x004FFEFD+720637]\n",
      "\tOrdinal0 [0x00500F3F+724799]\n",
      "\tGetHandleVerifier [0x008FEED2+2769538]\n",
      "\tGetHandleVerifier [0x008F0D95+2711877]\n",
      "\tGetHandleVerifier [0x006DA03A+521194]\n",
      "\tGetHandleVerifier [0x006D8DA0+516432]\n",
      "\tOrdinal0 [0x005E682C+1665068]\n",
      "\tOrdinal0 [0x005EB128+1683752]\n",
      "\tOrdinal0 [0x005EB215+1683989]\n",
      "\tOrdinal0 [0x005F6484+1729668]\n",
      "\tBaseThreadInitThunk [0x76C6FEF9+25]\n",
      "\tRtlGetAppContainerNamedObjectPath [0x77267BBE+286]\n",
      "\tRtlGetAppContainerNamedObjectPath [0x77267B8E+238]\n",
      "\n"
     ]
    },
    {
     "name": "stdout",
     "output_type": "stream",
     "text": [
      "Finished in 303.2 second(s)\n"
     ]
    }
   ],
   "source": [
    "if __name__ == '__main__':\n",
    "    start = time.perf_counter()\n",
    "    threads = []\n",
    "    for i in range(10):\n",
    "        t = threading.Thread(target=bot_add, args=(i,))\n",
    "        t.start()\n",
    "        threads.append(t)\n",
    "        \n",
    "    for thread in threads:\n",
    "        thread.join()\n",
    "    finish = time.perf_counter()\n",
    " \n",
    "    print(f'Finished in {round(finish-start, 2)} second(s)')"
   ]
  },
  {
   "cell_type": "code",
   "execution_count": null,
   "id": "13d26575-c012-416f-bbd0-3e4a53ddc3fd",
   "metadata": {},
   "outputs": [],
   "source": []
  }
 ],
 "metadata": {
  "kernelspec": {
   "display_name": "Python 3 (ipykernel)",
   "language": "python",
   "name": "python3"
  },
  "language_info": {
   "codemirror_mode": {
    "name": "ipython",
    "version": 3
   },
   "file_extension": ".py",
   "mimetype": "text/x-python",
   "name": "python",
   "nbconvert_exporter": "python",
   "pygments_lexer": "ipython3",
   "version": "3.9.13"
  }
 },
 "nbformat": 4,
 "nbformat_minor": 5
}
