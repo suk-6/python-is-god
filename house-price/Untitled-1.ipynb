{
 "metadata": {
  "language_info": {
   "codemirror_mode": {
    "name": "ipython",
    "version": 3
   },
   "file_extension": ".py",
   "mimetype": "text/x-python",
   "name": "python",
   "nbconvert_exporter": "python",
   "pygments_lexer": "ipython3",
   "version": "3.9.2"
  },
  "orig_nbformat": 2,
  "kernelspec": {
   "name": "python39264bit083cc06138bb455bbc3e1d2f39d47f8c",
   "display_name": "Python 3.9.2 64-bit",
   "language": "python"
  }
 },
 "nbformat": 4,
 "nbformat_minor": 2,
 "cells": [
  {
   "cell_type": "code",
   "execution_count": 15,
   "metadata": {},
   "outputs": [
    {
     "output_type": "execute_result",
     "data": {
      "text/plain": [
       "'2021.1.1 계수마을수목원우림필유 101 101 84.9783 131,000,000'"
      ]
     },
     "metadata": {},
     "execution_count": 15
    }
   ],
   "source": [
    "import time\n",
    "from selenium import webdriver\n",
    "from selenium.webdriver.common.by import By\n",
    "from selenium.webdriver.support.ui import WebDriverWait\n",
    "from selenium.webdriver.support import expected_conditions as EC\n",
    "\n",
    "driver = webdriver.Chrome()\n",
    "\n",
    "driver.get(\"https://www.realtyprice.kr:447/notice/town/searchOpinion.htm\")\n",
    "\n",
    "driver.find_element_by_xpath('//*[@id=\"sido\"]/option[9]').click()\n",
    "\n",
    "elem = WebDriverWait(driver, 10).until(EC.presence_of_element_located((By.XPATH, '//*[@id=\"sigungu\"]/option[34]')))\n",
    "driver.find_element_by_xpath('//*[@id=\"sigungu\"]/option[34]').click()\n",
    "\n",
    "\n",
    "elem = WebDriverWait(driver, 10).until(EC.presence_of_element_located((By.XPATH, '//*[@id=\"initialword\"]/option[5]')))\n",
    "driver.find_element_by_xpath('//*[@id=\"initialword\"]/option[5]').click()\n",
    "\n",
    "\n",
    "elem = WebDriverWait(driver, 10).until(EC.presence_of_element_located((By.XPATH, '//*[@id=\"road\"]/option[61]')))\n",
    "driver.find_element_by_xpath('//*[@id=\"road\"]/option[61]').click()\n",
    "\n",
    "\n",
    "elem = WebDriverWait(driver, 10).until(EC.presence_of_element_located((By.XPATH, '//*[@id=\"apt\"]/option[3]')))\n",
    "driver.find_element_by_xpath('//*[@id=\"apt\"]/option[3]').click()\n",
    "\n",
    "\n",
    "elem = WebDriverWait(driver, 10).until(EC.presence_of_element_located((By.XPATH, '//*[@id=\"dong\"]/option[1]')))\n",
    "driver.find_element_by_xpath('//*[@id=\"dong\"]/option[1]').click()\n",
    "\n",
    "\n",
    "elem = WebDriverWait(driver, 10).until(EC.presence_of_element_located((By.XPATH, '//*[@id=\"ho\"]/option[1]')))\n",
    "driver.find_element_by_xpath('//*[@id=\"ho\"]/option[1]').click()\n",
    "\n",
    "driver.find_element_by_id(\"btn_search\").click()\n",
    "\n",
    "elem = WebDriverWait(driver, 10).until(EC.presence_of_element_located((By.XPATH, '//*[@id=\"dataList\"]/tr[1]')))\n",
    "f = driver.find_elements_by_xpath('//*[@id=\"dataList\"]/tr[1]')[0]\n",
    "f_data = f.text\n",
    "f.text"
   ]
  }
 ]
}